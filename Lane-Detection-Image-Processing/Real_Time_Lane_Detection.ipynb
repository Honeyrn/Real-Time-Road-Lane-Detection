{
 "cells": [
  {
   "cell_type": "code",
   "execution_count": 1,
   "id": "1a8aaca4-41a1-4c04-9c09-fcbbb3d2511f",
   "metadata": {},
   "outputs": [],
   "source": [
    "import numpy as np\n",
    "import cv2\n",
    "import matplotlib.pyplot as plt"
   ]
  },
  {
   "cell_type": "code",
   "execution_count": 2,
   "id": "a5c2b667-4f5b-4b17-830d-dbde211a1772",
   "metadata": {},
   "outputs": [],
   "source": [
    "#--------------------------------------------------------\n",
    "#BGR TO RGB CONVERSION\n",
    "#--------------------------------------------------------\n",
    "def bgr_rgb(image):\n",
    "    rgb = cv2.cvtColor(image, cv2.COLOR_BGR2RGB)\n",
    "    return rgb"
   ]
  },
  {
   "cell_type": "code",
   "execution_count": 3,
   "id": "84aa182c-00bf-4044-b64e-403637f6604d",
   "metadata": {},
   "outputs": [],
   "source": [
    "#--------------------------------------------------------\n",
    "#REGION OF INTEREST \n",
    "#--------------------------------------------------------\n",
    "def region_of_interest(image_height, image_width,xsize,ysize):\n",
    "    left_bottom = [100, image_height - 1]\n",
    "    right_bottom = [950, image_height - 1]\n",
    "    apex = [480, 290]\n",
    "    \n",
    "    fit_left = np.polyfit((left_bottom[0], apex[0]), (left_bottom[1], apex[1]), 1)\n",
    "    fit_right = np.polyfit((right_bottom[0], apex[0]), (right_bottom[1], apex[1]), 1)\n",
    "    fit_bottom = np.polyfit((left_bottom[0], right_bottom[0]), (left_bottom[1], right_bottom[1]), 1)\n",
    "    \n",
    "    XX, YY = np.meshgrid(np.arange(0, xsize), np.arange(0, ysize))\n",
    "    region_thresholds = (YY > (XX * fit_left[0] + fit_left[1])) & \\\n",
    "                        (YY > (XX * fit_right[0] + fit_right[1])) & \\\n",
    "                        (YY < (XX * fit_bottom[0] + fit_bottom[1]))\n",
    "    \n",
    "    return region_thresholds"
   ]
  },
  {
   "cell_type": "code",
   "execution_count": 4,
   "id": "2e140916-8b88-4456-848e-62a14aae6844",
   "metadata": {},
   "outputs": [],
   "source": [
    "#--------------------------------------------------------\n",
    "#COLOUR THRESHOLD CALCULATION\n",
    "#--------------------------------------------------------\n",
    "def c_thresh(image):\n",
    "    # Define color selection criteria\n",
    "    red_threshold = 200\n",
    "    green_threshold = 200\n",
    "    blue_threshold = 200\n",
    "    rgb_threshold = [red_threshold, green_threshold, blue_threshold]\n",
    "    \n",
    "    color_thresholds = (image[:, :, 0] < rgb_threshold[0]) | \\\n",
    "                       (image[:, :, 1] < rgb_threshold[1]) | \\\n",
    "                       (image[:, :, 2] < rgb_threshold[2])\n",
    "    \n",
    "    return color_thresholds"
   ]
  },
  {
   "cell_type": "code",
   "execution_count": 5,
   "id": "3dca8ff0-68ac-4184-96e0-64f0f428945d",
   "metadata": {},
   "outputs": [],
   "source": [
    "#--------------------------------------------------------\n",
    "#IMAGE PROCESSING FUNCTION \n",
    "#--------------------------------------------------------\n",
    "def process_image(image):\n",
    "    # Convert to RGB\n",
    "    image_rgb=bgr_rgb(image)\n",
    "        \n",
    "    ysize = image.shape[0]\n",
    "    xsize = image.shape[1]\n",
    "    line_image = np.copy(image)\n",
    "    color_select=np.copy(image)\n",
    "\n",
    "    region_thresholds = region_of_interest(539,680,xsize,ysize)\n",
    "\n",
    "    color_thresholds=c_thresh(image)\n",
    "\n",
    "    # Mask color and region selection\n",
    "    color_select[color_thresholds | ~region_thresholds] = [0, 0, 0]\n",
    "    # Color pixels green where both color and region selections met\n",
    "    # line_image[~color_thresholds & region_thresholds] = [79,250,161]\n",
    "    line_image[~color_thresholds & region_thresholds] = [0,255,91]\n",
    "\n",
    "    # Add the line to the original image\n",
    "    combo_image = cv2.addWeighted(image, 0.001, line_image, 1, 1)\n",
    "\n",
    "    return combo_image"
   ]
  },
  {
   "cell_type": "code",
   "execution_count": 6,
   "id": "9b4fe913-2b16-437c-a31d-3a7268d76ec8",
   "metadata": {},
   "outputs": [
    {
     "name": "stdout",
     "output_type": "stream",
     "text": [
      "Completed !\n"
     ]
    }
   ],
   "source": [
    "#=====================================================================\n",
    "# MAIN IMPLEMENTATION\n",
    "#=====================================================================\n",
    "# Open video file\n",
    "cap = cv2.VideoCapture('solidWhiteRight.mp4')\n",
    "if not cap.isOpened():\n",
    "    print(\"Error: Could not open video.\")\n",
    "    exit()\n",
    "\n",
    "while cap.isOpened():\n",
    "    ret, image = cap.read()\n",
    "\n",
    "    if not ret:\n",
    "        print(\"Completed !\")\n",
    "        break\n",
    "\n",
    "    # Process the image\n",
    "    result = process_image(image)\n",
    "\n",
    "    # Display the processed image\n",
    "    cv2.imshow('image', result)\n",
    "\n",
    "    if cv2.waitKey(1) & 0xFF == ord('q'):\n",
    "        break\n",
    "\n",
    "cap.release()\n",
    "cv2.destroyAllWindows()"
   ]
  },
  {
   "cell_type": "code",
   "execution_count": null,
   "id": "aff54083-824f-4702-a3df-be7e16ab4615",
   "metadata": {},
   "outputs": [],
   "source": []
  }
 ],
 "metadata": {
  "kernelspec": {
   "display_name": "Python 3 (ipykernel)",
   "language": "python",
   "name": "python3"
  },
  "language_info": {
   "codemirror_mode": {
    "name": "ipython",
    "version": 3
   },
   "file_extension": ".py",
   "mimetype": "text/x-python",
   "name": "python",
   "nbconvert_exporter": "python",
   "pygments_lexer": "ipython3",
   "version": "3.9.12"
  }
 },
 "nbformat": 4,
 "nbformat_minor": 5
}
